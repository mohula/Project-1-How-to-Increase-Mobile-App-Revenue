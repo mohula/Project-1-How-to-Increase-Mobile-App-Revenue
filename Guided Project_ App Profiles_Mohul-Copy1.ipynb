{
 "cells": [
  {
   "cell_type": "markdown",
   "metadata": {},
   "source": [
    "# How to Increase Mobile App Revenue\n",
    "\n",
    "Our goal is to find mobile app profiles that are more likely to attract users and to increase ad revenue for apps available on Google Play and the App Store. We are working as data analysts for this game development company.\n",
    "\n",
    "At our company, we work on apps that are free to download and install, and our main source of revenue consists of in-app ads. Our revenue is mostly based on the amount of users; as more users engage with our ads, we are able to increase profits. By the end of our project, we can hopefully help developers understand what apps attract more users."
   ]
  },
  {
   "cell_type": "markdown",
   "metadata": {},
   "source": [
    "## Step 1: Explore the Given Data"
   ]
  },
  {
   "cell_type": "code",
   "execution_count": 52,
   "metadata": {},
   "outputs": [],
   "source": [
    "from csv import reader\n",
    "\n",
    "opened_file = open('googleplaystore.csv')\n",
    "read_file = reader(opened_file)\n",
    "android = list(read_file)\n",
    "android_header = android[0]\n",
    "android = android[1:]\n",
    "\n",
    "opened_file = open('AppleStore.csv')\n",
    "read_file = reader(opened_file)\n",
    "ios = list(read_file)\n",
    "ios_header = ios[0]\n",
    "ios = ios[1:]"
   ]
  },
  {
   "cell_type": "code",
   "execution_count": 53,
   "metadata": {},
   "outputs": [],
   "source": [
    "def explore_data(dataset, start, end, rows_and_columns=False):\n",
    "    dataset_slice = dataset[start:end]    \n",
    "    for row in dataset_slice:\n",
    "        print(row)\n",
    "        print('\\n') # adds a new (empty) line after each row\n",
    "\n",
    "    if rows_and_columns:\n",
    "        print('Number of rows:', len(dataset))\n",
    "        print('Number of columns:', len(dataset[0]))"
   ]
  },
  {
   "cell_type": "code",
   "execution_count": 54,
   "metadata": {},
   "outputs": [
    {
     "name": "stdout",
     "output_type": "stream",
     "text": [
      "['App', 'Category', 'Rating', 'Reviews', 'Size', 'Installs', 'Type', 'Price', 'Content Rating', 'Genres', 'Last Updated', 'Current Ver', 'Android Ver']\n",
      "['Photo Editor & Candy Camera & Grid & ScrapBook', 'ART_AND_DESIGN', '4.1', '159', '19M', '10,000+', 'Free', '0', 'Everyone', 'Art & Design', 'January 7, 2018', '1.0.0', '4.0.3 and up']\n",
      "\n",
      "\n",
      "['Coloring book moana', 'ART_AND_DESIGN', '3.9', '967', '14M', '500,000+', 'Free', '0', 'Everyone', 'Art & Design;Pretend Play', 'January 15, 2018', '2.0.0', '4.0.3 and up']\n",
      "\n",
      "\n",
      "['U Launcher Lite – FREE Live Cool Themes, Hide Apps', 'ART_AND_DESIGN', '4.7', '87510', '8.7M', '5,000,000+', 'Free', '0', 'Everyone', 'Art & Design', 'August 1, 2018', '1.2.4', '4.0.3 and up']\n",
      "\n",
      "\n",
      "Number of rows: 10841\n",
      "Number of columns: 13\n",
      "\n",
      "\n"
     ]
    }
   ],
   "source": [
    "print(android_header)\n",
    "explore_data(android, 0, 3, True)\n",
    "print('\\n')"
   ]
  },
  {
   "cell_type": "code",
   "execution_count": 55,
   "metadata": {},
   "outputs": [
    {
     "name": "stdout",
     "output_type": "stream",
     "text": [
      "['id', 'track_name', 'size_bytes', 'currency', 'price', 'rating_count_tot', 'rating_count_ver', 'user_rating', 'user_rating_ver', 'ver', 'cont_rating', 'prime_genre', 'sup_devices.num', 'ipadSc_urls.num', 'lang.num', 'vpp_lic']\n",
      "['284882215', 'Facebook', '389879808', 'USD', '0.0', '2974676', '212', '3.5', '3.5', '95.0', '4+', 'Social Networking', '37', '1', '29', '1']\n",
      "\n",
      "\n",
      "['389801252', 'Instagram', '113954816', 'USD', '0.0', '2161558', '1289', '4.5', '4.0', '10.23', '12+', 'Photo & Video', '37', '0', '29', '1']\n",
      "\n",
      "\n",
      "['529479190', 'Clash of Clans', '116476928', 'USD', '0.0', '2130805', '579', '4.5', '4.5', '9.24.12', '9+', 'Games', '38', '5', '18', '1']\n",
      "\n",
      "\n",
      "Number of rows: 7197\n",
      "Number of columns: 16\n",
      "\n",
      "\n"
     ]
    }
   ],
   "source": [
    "print(ios_header)\n",
    "explore_data(ios, 0, 3, True)\n",
    "print('\\n')"
   ]
  },
  {
   "cell_type": "code",
   "execution_count": 56,
   "metadata": {},
   "outputs": [
    {
     "name": "stdout",
     "output_type": "stream",
     "text": [
      "['Life Made WI-Fi Touchscreen Photo Frame', '1.9', '19', '3.0M', '1,000+', 'Free', '0', 'Everyone', '', 'February 11, 2018', '1.0.19', '4.0 and up']\n",
      "\n",
      "\n",
      "['App', 'Category', 'Rating', 'Reviews', 'Size', 'Installs', 'Type', 'Price', 'Content Rating', 'Genres', 'Last Updated', 'Current Ver', 'Android Ver']\n",
      "\n",
      "\n",
      "['Photo Editor & Candy Camera & Grid & ScrapBook', 'ART_AND_DESIGN', '4.1', '159', '19M', '10,000+', 'Free', '0', 'Everyone', 'Art & Design', 'January 7, 2018', '1.0.0', '4.0.3 and up']\n"
     ]
    }
   ],
   "source": [
    "print(android[10472])\n",
    "print('\\n')\n",
    "print(android_header)\n",
    "print('\\n')\n",
    "print(android[0])"
   ]
  },
  {
   "cell_type": "markdown",
   "metadata": {},
   "source": [
    "## Step 2: Clean the Given Data"
   ]
  },
  {
   "cell_type": "markdown",
   "metadata": {},
   "source": [
    "However, we need to remember that there can be *errors* in the rows. According to a Google Play Store discussion, there is an error where an additional row is included and there are non-free apps. Below, we can edit our list to remove that row."
   ]
  },
  {
   "cell_type": "code",
   "execution_count": 57,
   "metadata": {},
   "outputs": [
    {
     "name": "stdout",
     "output_type": "stream",
     "text": [
      "10841\n",
      "10840\n"
     ]
    }
   ],
   "source": [
    "print(len(android))\n",
    "del android[10472]\n",
    "print(len(android))"
   ]
  },
  {
   "cell_type": "markdown",
   "metadata": {},
   "source": [
    "As such, we can see that after we remove our error row, we have 10840 instead of 10841 rows.\n",
    "\n",
    "We also need to check our data to look for *duplicate* data. For instance, is Instagram mentioned more than once in the list of apps for Android."
   ]
  },
  {
   "cell_type": "code",
   "execution_count": 58,
   "metadata": {},
   "outputs": [
    {
     "name": "stdout",
     "output_type": "stream",
     "text": [
      "Number of duplicate android apps: 1181\n",
      "\n",
      "\n",
      "Example of duplicate android apps: ['Quick PDF Scanner + OCR FREE', 'Box', 'Google My Business', 'ZOOM Cloud Meetings', 'join.me - Simple Meetings', 'Box', 'Zenefits', 'Google Ads', 'Google My Business', 'Slack']\n"
     ]
    }
   ],
   "source": [
    "duplicate_android_apps = []\n",
    "unique_android_apps = []\n",
    "\n",
    "for app in android:\n",
    "    name = app[0]\n",
    "    if name in unique_android_apps:\n",
    "        duplicate_android_apps.append(name)\n",
    "    else:\n",
    "        unique_android_apps.append(name)\n",
    "\n",
    "print('Number of duplicate android apps:', len(duplicate_android_apps))\n",
    "print('\\n')\n",
    "print('Example of duplicate android apps:', duplicate_android_apps[:10])"
   ]
  },
  {
   "cell_type": "code",
   "execution_count": 59,
   "metadata": {},
   "outputs": [
    {
     "name": "stdout",
     "output_type": "stream",
     "text": [
      "Number of duplicate ios apps: 0\n",
      "\n",
      "\n",
      "Example of duplicate ios apps: []\n"
     ]
    }
   ],
   "source": [
    "duplicate_ios_apps = []\n",
    "unique_ios_apps = []\n",
    "\n",
    "for app in ios:\n",
    "    name = app[0]\n",
    "    if name in unique_ios_apps:\n",
    "        duplicate_ios_apps.append(name)\n",
    "    else:\n",
    "        unique_ios_apps.append(name)\n",
    "\n",
    "print('Number of duplicate ios apps:', len(duplicate_ios_apps))\n",
    "print('\\n')\n",
    "print('Example of duplicate ios apps:', duplicate_ios_apps[:10])"
   ]
  },
  {
   "cell_type": "markdown",
   "metadata": {},
   "source": [
    "Our data has showed us that there are **10840 duplicate Android apps** and **0 duplicate iOS apps**.\n",
    "\n",
    "Now, we are going to create a dictionary `reviews_max` to find & remove the duplicate rows. We are doing the following:\n",
    "- we create a dictionary where the `name` of the app is the kay and the `n_reviews` is the value\n",
    "- the dictionary should provide 9659 entries"
   ]
  },
  {
   "cell_type": "code",
   "execution_count": 60,
   "metadata": {},
   "outputs": [
    {
     "name": "stdout",
     "output_type": "stream",
     "text": [
      "9659\n"
     ]
    }
   ],
   "source": [
    "reviews_max = {}\n",
    "\n",
    "for app in android:\n",
    "    name = app[0]\n",
    "    n_reviews = float(app[3])\n",
    "    if name in reviews_max and reviews_max[name] < n_reviews:\n",
    "        reviews_max[name] = n_reviews\n",
    "    elif name not in reviews_max:\n",
    "        reviews_max[name] = n_reviews\n",
    "\n",
    "print(len(reviews_max))"
   ]
  },
  {
   "cell_type": "markdown",
   "metadata": {},
   "source": [
    "Now, we are going to craft a list of applications to add to the cleaned list without any dupplicates. Both lists `android_clean` and `already_added` will reflect 9659 apps."
   ]
  },
  {
   "cell_type": "code",
   "execution_count": 61,
   "metadata": {},
   "outputs": [
    {
     "name": "stdout",
     "output_type": "stream",
     "text": [
      "9659\n"
     ]
    }
   ],
   "source": [
    "android_clean = []\n",
    "already_added = []\n",
    "\n",
    "for app in android:\n",
    "    name = app[0]\n",
    "    n_reviews = float(app[3])\n",
    "    if (n_reviews == reviews_max[name]) and (name not in already_added):\n",
    "        android_clean.append(app)\n",
    "        already_added.append(name)\n",
    "\n",
    "print(len(already_added))"
   ]
  },
  {
   "cell_type": "code",
   "execution_count": 62,
   "metadata": {},
   "outputs": [
    {
     "name": "stdout",
     "output_type": "stream",
     "text": [
      "['Photo Editor & Candy Camera & Grid & ScrapBook', 'ART_AND_DESIGN', '4.1', '159', '19M', '10,000+', 'Free', '0', 'Everyone', 'Art & Design', 'January 7, 2018', '1.0.0', '4.0.3 and up']\n",
      "\n",
      "\n",
      "['U Launcher Lite – FREE Live Cool Themes, Hide Apps', 'ART_AND_DESIGN', '4.7', '87510', '8.7M', '5,000,000+', 'Free', '0', 'Everyone', 'Art & Design', 'August 1, 2018', '1.2.4', '4.0.3 and up']\n",
      "\n",
      "\n",
      "['Sketch - Draw & Paint', 'ART_AND_DESIGN', '4.5', '215644', '25M', '50,000,000+', 'Free', '0', 'Teen', 'Art & Design', 'June 8, 2018', 'Varies with device', '4.2 and up']\n",
      "\n",
      "\n",
      "Number of rows: 9659\n"
     ]
    }
   ],
   "source": [
    "explore_data(android_clean, 0, 3, False)\n",
    "print(\"Number of rows:\", len(android_clean))"
   ]
  },
  {
   "cell_type": "markdown",
   "metadata": {},
   "source": [
    "As we explore our data, we can see the same result as we'd previously arrived at. Our data shows us that there are 9,659 rows in our newly-cleaned dataset for android apps."
   ]
  },
  {
   "cell_type": "markdown",
   "metadata": {},
   "source": [
    "Another important step in cleaning our data is making sure that we are analyzing *English Apps*, or apps that are in English for American advertisement companies.\n",
    "\n",
    "As such, we are going to create `eng(string)` a function that checks whether there are non-English characters."
   ]
  },
  {
   "cell_type": "code",
   "execution_count": 63,
   "metadata": {},
   "outputs": [
    {
     "name": "stdout",
     "output_type": "stream",
     "text": [
      "True\n",
      "False\n",
      "False\n",
      "False\n"
     ]
    }
   ],
   "source": [
    "def eng(string):\n",
    "    for character in string:\n",
    "        if ord(character) > 127:\n",
    "            return False\n",
    "        \n",
    "    return True\n",
    "\n",
    "print(eng('Instagram'))\n",
    "print(eng('爱奇艺PPS -《欢乐颂2》电视剧热播'))\n",
    "print(eng('Docs To Go™ Free Office Suite'))\n",
    "print(eng('Instachat 😜'))"
   ]
  },
  {
   "cell_type": "markdown",
   "metadata": {},
   "source": [
    "Our function definining `eng(string)` was successful in identifying the apps 'Instagram' as English and '爱奇艺PPS -《欢乐颂2》电视剧热播'\n",
    "as non-English.\n",
    "\n",
    "However, the other two apps,'Docs To Go™ Free Office Suite' and 'Instachat 😜', had issues in being deemed \"English apps\". This is because of emojis and characters like \"™\" that fall outside the ASCII range. We can see evidence of that below.\n"
   ]
  },
  {
   "cell_type": "code",
   "execution_count": 64,
   "metadata": {},
   "outputs": [
    {
     "name": "stdout",
     "output_type": "stream",
     "text": [
      "8482\n",
      "128540\n"
     ]
    }
   ],
   "source": [
    "print(ord('™'))\n",
    "print(ord('😜'))"
   ]
  },
  {
   "cell_type": "markdown",
   "metadata": {},
   "source": [
    "Above, we can see corresponding numbers above the ASCII range of 127 that we used for our original `eng(string)` function. We're going to craft a new function to check whether an app is English."
   ]
  },
  {
   "cell_type": "code",
   "execution_count": 65,
   "metadata": {},
   "outputs": [
    {
     "name": "stdout",
     "output_type": "stream",
     "text": [
      "True\n",
      "True\n"
     ]
    }
   ],
   "source": [
    "def eng(string):\n",
    "    non_ascii = 0\n",
    "    \n",
    "    for character in string:\n",
    "        if ord(character) > 127:\n",
    "            non_ascii += 1\n",
    "    \n",
    "    if non_ascii > 3:\n",
    "        return False\n",
    "    else:\n",
    "        return True\n",
    "\n",
    "print(eng('Docs To Go™ Free Office Suite'))\n",
    "print(eng('Instachat 😜'))"
   ]
  },
  {
   "cell_type": "markdown",
   "metadata": {},
   "source": [
    "Now that we've designed a semi-functional way to exclude English apps, we're going to make two lists, `android_english` and `ios_english`, that define applications in both application stores that are English."
   ]
  },
  {
   "cell_type": "code",
   "execution_count": 66,
   "metadata": {},
   "outputs": [
    {
     "name": "stdout",
     "output_type": "stream",
     "text": [
      "['Photo Editor & Candy Camera & Grid & ScrapBook', 'ART_AND_DESIGN', '4.1', '159', '19M', '10,000+', 'Free', '0', 'Everyone', 'Art & Design', 'January 7, 2018', '1.0.0', '4.0.3 and up']\n",
      "\n",
      "\n",
      "['U Launcher Lite – FREE Live Cool Themes, Hide Apps', 'ART_AND_DESIGN', '4.7', '87510', '8.7M', '5,000,000+', 'Free', '0', 'Everyone', 'Art & Design', 'August 1, 2018', '1.2.4', '4.0.3 and up']\n",
      "\n",
      "\n",
      "['Sketch - Draw & Paint', 'ART_AND_DESIGN', '4.5', '215644', '25M', '50,000,000+', 'Free', '0', 'Teen', 'Art & Design', 'June 8, 2018', 'Varies with device', '4.2 and up']\n",
      "\n",
      "\n",
      "Number of rows: 9614\n",
      "Number of columns: 13\n",
      "\n",
      "\n",
      "['284882215', 'Facebook', '389879808', 'USD', '0.0', '2974676', '212', '3.5', '3.5', '95.0', '4+', 'Social Networking', '37', '1', '29', '1']\n",
      "\n",
      "\n",
      "['389801252', 'Instagram', '113954816', 'USD', '0.0', '2161558', '1289', '4.5', '4.0', '10.23', '12+', 'Photo & Video', '37', '0', '29', '1']\n",
      "\n",
      "\n",
      "['529479190', 'Clash of Clans', '116476928', 'USD', '0.0', '2130805', '579', '4.5', '4.5', '9.24.12', '9+', 'Games', '38', '5', '18', '1']\n",
      "\n",
      "\n",
      "Number of rows: 6183\n",
      "Number of columns: 16\n"
     ]
    }
   ],
   "source": [
    "android_english = []\n",
    "ios_english = []\n",
    "\n",
    "for app in android_clean:\n",
    "    name = app[0]\n",
    "    if eng(name):\n",
    "        android_english.append(app)\n",
    "        \n",
    "for app in ios:\n",
    "    name = app[1]\n",
    "    if eng(name):\n",
    "        ios_english.append(app)\n",
    "        \n",
    "explore_data(android_english, 0, 3, True)\n",
    "print('\\n')\n",
    "explore_data(ios_english, 0, 3, True)\n",
    "        "
   ]
  },
  {
   "cell_type": "markdown",
   "metadata": {},
   "source": [
    "According to our data-cleaning process, the number of English Android apps is **9,614** and the number of English iOS apps is **6,183**. \n",
    "\n",
    "Now, we need to make our final lists, where the apps are both *English* and *Free*. These lists will be called `android_final` and `ios_final`."
   ]
  },
  {
   "cell_type": "code",
   "execution_count": 67,
   "metadata": {},
   "outputs": [
    {
     "name": "stdout",
     "output_type": "stream",
     "text": [
      "8864\n",
      "3222\n"
     ]
    }
   ],
   "source": [
    "android_final = []\n",
    "ios_final = []\n",
    "\n",
    "for app in android_english:\n",
    "    price = app[7]\n",
    "    if price == '0':\n",
    "        android_final.append(app)\n",
    "\n",
    "for app in ios_english:\n",
    "    price = app[4]\n",
    "    if price == '0.0':\n",
    "        ios_final.append(app)\n",
    "\n",
    "print(len(android_final))\n",
    "print(len(ios_final))"
   ]
  },
  {
   "cell_type": "markdown",
   "metadata": {},
   "source": [
    "Thus far, we've done the following to clean our data:\n",
    "- removed inaccurate data\n",
    "- removed duplicate app entries\n",
    "- removed non-English apps\n",
    "- isolated the free apps"
   ]
  },
  {
   "cell_type": "markdown",
   "metadata": {},
   "source": [
    "## Step 3: Product Strategy"
   ]
  },
  {
   "cell_type": "markdown",
   "metadata": {},
   "source": [
    "To find apps that are successful and attract the most ad revenue, we are going to launch the app on the Google Play Store *first* and the App Store after *proof-of-concept* with Android. This can be described in three unique steps:\n",
    "1. Build a minimal Android version of the app, and add it to Google Play.\n",
    "2. If the app has a good response from users, we develop it further.\n",
    "3. If the app is profitable after six months, we build an iOS version of the app and add it to the App Store.\n",
    "\n",
    "After inspecting both data sets, we need to find the most common genres in each market. This is the 'Genre' and 'Category' columns for Android and 'prime_genre' column for iOS.\n",
    "\n",
    "We'll build frequency tables for these columns. To do so, we'll build two functions:\n",
    "1. `freq_table()`: generate *frequency tables that show percentages*\n",
    "2. `display_table()`: display *percentages in a descending order*"
   ]
  },
  {
   "cell_type": "code",
   "execution_count": 68,
   "metadata": {},
   "outputs": [],
   "source": [
    "def freq_table(dataset, index):\n",
    "    table = {}\n",
    "    total = 0\n",
    "    \n",
    "    for row in dataset:\n",
    "        total += 1\n",
    "        value = row[index]\n",
    "        if value in table:\n",
    "            table[value] += 1\n",
    "        else:\n",
    "            table[value] = 1\n",
    "    \n",
    "    table_percentages = {}\n",
    "    for key in table:\n",
    "        table_percentages[key] = (table[key] / total) * 100\n",
    "    \n",
    "    return table_percentages\n",
    "    \n",
    "\n",
    "def display_table(dataset, index):\n",
    "    table = freq_table(dataset, index)\n",
    "    table_display = []\n",
    "    for key in table:\n",
    "        key_val_as_tuple = (table[key], key)\n",
    "        table_display.append(key_val_as_tuple)\n",
    "\n",
    "    table_sorted = sorted(table_display, reverse = True)\n",
    "    for entry in table_sorted:\n",
    "        print(entry[1], ':', entry[0])"
   ]
  },
  {
   "cell_type": "markdown",
   "metadata": {},
   "source": [
    "We're going to use our new functions to display frequency table of the columns `prime_genre`, `Genres`, and `Category`."
   ]
  },
  {
   "cell_type": "code",
   "execution_count": 69,
   "metadata": {},
   "outputs": [
    {
     "name": "stdout",
     "output_type": "stream",
     "text": [
      "Games : 58.16263190564867\n",
      "Entertainment : 7.883302296710118\n",
      "Photo & Video : 4.9658597144630665\n",
      "Education : 3.662321539416512\n",
      "Social Networking : 3.2898820608317814\n",
      "Shopping : 2.60707635009311\n",
      "Utilities : 2.5139664804469275\n",
      "Sports : 2.1415270018621975\n",
      "Music : 2.0484171322160147\n",
      "Health & Fitness : 2.0173805090006205\n",
      "Productivity : 1.7380509000620732\n",
      "Lifestyle : 1.5828677839851024\n",
      "News : 1.3345747982619491\n",
      "Travel : 1.2414649286157666\n",
      "Finance : 1.1173184357541899\n",
      "Weather : 0.8690254500310366\n",
      "Food & Drink : 0.8069522036002483\n",
      "Reference : 0.5586592178770949\n",
      "Business : 0.5276225946617008\n",
      "Book : 0.4345127250155183\n",
      "Navigation : 0.186219739292365\n",
      "Medical : 0.186219739292365\n",
      "Catalogs : 0.12414649286157665\n"
     ]
    }
   ],
   "source": [
    "display_table(ios_final, -5) #\"prime_genre\""
   ]
  },
  {
   "cell_type": "markdown",
   "metadata": {},
   "source": [
    "Our data analysis shows the following:\n",
    "The most popular category is \"Games\" at approximately 58.2%. Other notable runners-up include \"Entertainment\" at 7.9%, \"Photo & Video\" at 5.0%, and \"Education\" at 3.7%.\n",
    "The least popular category is \"Catalogs\" at approximately 0.1%, \"Medical\" at 0.2%, \"Navigation\" at 0.2%, and \"Book\" at 0.4%.\n",
    "\n",
    "This information helps us realize that more than half of the apps on the app store that are *free* and *English* are related to **fun**(Games, Entertainment, Photo&Video, etc).\n",
    "\n",
    "However, this does not imply that most people use the App Store to *download* games; instead, this is just information about offered-products–not *usage* or *demand*.\n"
   ]
  },
  {
   "cell_type": "code",
   "execution_count": 70,
   "metadata": {},
   "outputs": [
    {
     "name": "stdout",
     "output_type": "stream",
     "text": [
      "FAMILY : 18.907942238267147\n",
      "GAME : 9.724729241877256\n",
      "TOOLS : 8.461191335740072\n",
      "BUSINESS : 4.591606498194946\n",
      "LIFESTYLE : 3.9034296028880866\n",
      "PRODUCTIVITY : 3.892148014440433\n",
      "FINANCE : 3.7003610108303246\n",
      "MEDICAL : 3.531137184115524\n",
      "SPORTS : 3.395758122743682\n",
      "PERSONALIZATION : 3.3167870036101084\n",
      "COMMUNICATION : 3.2378158844765346\n",
      "HEALTH_AND_FITNESS : 3.0798736462093865\n",
      "PHOTOGRAPHY : 2.944494584837545\n",
      "NEWS_AND_MAGAZINES : 2.7978339350180503\n",
      "SOCIAL : 2.6624548736462095\n",
      "TRAVEL_AND_LOCAL : 2.33528880866426\n",
      "SHOPPING : 2.2450361010830324\n",
      "BOOKS_AND_REFERENCE : 2.1435018050541514\n",
      "DATING : 1.861462093862816\n",
      "VIDEO_PLAYERS : 1.7937725631768955\n",
      "MAPS_AND_NAVIGATION : 1.3989169675090252\n",
      "FOOD_AND_DRINK : 1.2409747292418771\n",
      "EDUCATION : 1.1620036101083033\n",
      "ENTERTAINMENT : 0.9589350180505415\n",
      "LIBRARIES_AND_DEMO : 0.9363718411552346\n",
      "AUTO_AND_VEHICLES : 0.9250902527075812\n",
      "HOUSE_AND_HOME : 0.8235559566787004\n",
      "WEATHER : 0.8009927797833934\n",
      "EVENTS : 0.7107400722021661\n",
      "PARENTING : 0.6543321299638989\n",
      "ART_AND_DESIGN : 0.6430505415162455\n",
      "COMICS : 0.6204873646209386\n",
      "BEAUTY : 0.5979241877256317\n"
     ]
    }
   ],
   "source": [
    "display_table(android_final, 1) #\"Category\""
   ]
  },
  {
   "cell_type": "markdown",
   "metadata": {},
   "source": [
    "Most apps on the Google Play Store seem to be designed for family, game, tools, business, and lifestyle. This is vastly different from the App Store, whose product line is mostly comrpised of games for fun and entertainment.\n",
    "\n",
    "At a closer look, the title of \"family\" is misleading because a lot of the products offered here are games for younger children. We can see that at least 28% of products on the Google Play Store can be attributed to fun products like games."
   ]
  },
  {
   "cell_type": "code",
   "execution_count": 71,
   "metadata": {},
   "outputs": [
    {
     "name": "stdout",
     "output_type": "stream",
     "text": [
      "Tools : 8.449909747292418\n",
      "Entertainment : 6.069494584837545\n",
      "Education : 5.347472924187725\n",
      "Business : 4.591606498194946\n",
      "Productivity : 3.892148014440433\n",
      "Lifestyle : 3.892148014440433\n",
      "Finance : 3.7003610108303246\n",
      "Medical : 3.531137184115524\n",
      "Sports : 3.463447653429603\n",
      "Personalization : 3.3167870036101084\n",
      "Communication : 3.2378158844765346\n",
      "Action : 3.1024368231046933\n",
      "Health & Fitness : 3.0798736462093865\n",
      "Photography : 2.944494584837545\n",
      "News & Magazines : 2.7978339350180503\n",
      "Social : 2.6624548736462095\n",
      "Travel & Local : 2.3240072202166067\n",
      "Shopping : 2.2450361010830324\n",
      "Books & Reference : 2.1435018050541514\n",
      "Simulation : 2.0419675090252705\n",
      "Dating : 1.861462093862816\n",
      "Arcade : 1.8501805054151623\n",
      "Video Players & Editors : 1.7712093862815883\n",
      "Casual : 1.7599277978339352\n",
      "Maps & Navigation : 1.3989169675090252\n",
      "Food & Drink : 1.2409747292418771\n",
      "Puzzle : 1.128158844765343\n",
      "Racing : 0.9927797833935018\n",
      "Role Playing : 0.9363718411552346\n",
      "Libraries & Demo : 0.9363718411552346\n",
      "Auto & Vehicles : 0.9250902527075812\n",
      "Strategy : 0.9138086642599278\n",
      "House & Home : 0.8235559566787004\n",
      "Weather : 0.8009927797833934\n",
      "Events : 0.7107400722021661\n",
      "Adventure : 0.6768953068592057\n",
      "Comics : 0.6092057761732852\n",
      "Beauty : 0.5979241877256317\n",
      "Art & Design : 0.5979241877256317\n",
      "Parenting : 0.4963898916967509\n",
      "Card : 0.45126353790613716\n",
      "Casino : 0.42870036101083037\n",
      "Trivia : 0.41741877256317694\n",
      "Educational;Education : 0.39485559566787\n",
      "Board : 0.3835740072202166\n",
      "Educational : 0.3722924187725632\n",
      "Education;Education : 0.33844765342960287\n",
      "Word : 0.2594765342960289\n",
      "Casual;Pretend Play : 0.236913357400722\n",
      "Music : 0.2030685920577617\n",
      "Racing;Action & Adventure : 0.16922382671480143\n",
      "Puzzle;Brain Games : 0.16922382671480143\n",
      "Entertainment;Music & Video : 0.16922382671480143\n",
      "Casual;Brain Games : 0.13537906137184114\n",
      "Casual;Action & Adventure : 0.13537906137184114\n",
      "Arcade;Action & Adventure : 0.12409747292418773\n",
      "Action;Action & Adventure : 0.10153429602888085\n",
      "Educational;Pretend Play : 0.09025270758122744\n",
      "Simulation;Action & Adventure : 0.078971119133574\n",
      "Parenting;Education : 0.078971119133574\n",
      "Entertainment;Brain Games : 0.078971119133574\n",
      "Board;Brain Games : 0.078971119133574\n",
      "Parenting;Music & Video : 0.06768953068592057\n",
      "Educational;Brain Games : 0.06768953068592057\n",
      "Casual;Creativity : 0.06768953068592057\n",
      "Art & Design;Creativity : 0.06768953068592057\n",
      "Education;Pretend Play : 0.056407942238267145\n",
      "Role Playing;Pretend Play : 0.04512635379061372\n",
      "Education;Creativity : 0.04512635379061372\n",
      "Role Playing;Action & Adventure : 0.033844765342960284\n",
      "Puzzle;Action & Adventure : 0.033844765342960284\n",
      "Entertainment;Creativity : 0.033844765342960284\n",
      "Entertainment;Action & Adventure : 0.033844765342960284\n",
      "Educational;Creativity : 0.033844765342960284\n",
      "Educational;Action & Adventure : 0.033844765342960284\n",
      "Education;Music & Video : 0.033844765342960284\n",
      "Education;Brain Games : 0.033844765342960284\n",
      "Education;Action & Adventure : 0.033844765342960284\n",
      "Adventure;Action & Adventure : 0.033844765342960284\n",
      "Video Players & Editors;Music & Video : 0.02256317689530686\n",
      "Sports;Action & Adventure : 0.02256317689530686\n",
      "Simulation;Pretend Play : 0.02256317689530686\n",
      "Puzzle;Creativity : 0.02256317689530686\n",
      "Music;Music & Video : 0.02256317689530686\n",
      "Entertainment;Pretend Play : 0.02256317689530686\n",
      "Casual;Education : 0.02256317689530686\n",
      "Board;Action & Adventure : 0.02256317689530686\n",
      "Video Players & Editors;Creativity : 0.01128158844765343\n",
      "Trivia;Education : 0.01128158844765343\n",
      "Travel & Local;Action & Adventure : 0.01128158844765343\n",
      "Tools;Education : 0.01128158844765343\n",
      "Strategy;Education : 0.01128158844765343\n",
      "Strategy;Creativity : 0.01128158844765343\n",
      "Strategy;Action & Adventure : 0.01128158844765343\n",
      "Simulation;Education : 0.01128158844765343\n",
      "Role Playing;Brain Games : 0.01128158844765343\n",
      "Racing;Pretend Play : 0.01128158844765343\n",
      "Puzzle;Education : 0.01128158844765343\n",
      "Parenting;Brain Games : 0.01128158844765343\n",
      "Music & Audio;Music & Video : 0.01128158844765343\n",
      "Lifestyle;Pretend Play : 0.01128158844765343\n",
      "Lifestyle;Education : 0.01128158844765343\n",
      "Health & Fitness;Education : 0.01128158844765343\n",
      "Health & Fitness;Action & Adventure : 0.01128158844765343\n",
      "Entertainment;Education : 0.01128158844765343\n",
      "Communication;Creativity : 0.01128158844765343\n",
      "Comics;Creativity : 0.01128158844765343\n",
      "Casual;Music & Video : 0.01128158844765343\n",
      "Card;Action & Adventure : 0.01128158844765343\n",
      "Books & Reference;Education : 0.01128158844765343\n",
      "Art & Design;Pretend Play : 0.01128158844765343\n",
      "Art & Design;Action & Adventure : 0.01128158844765343\n",
      "Arcade;Pretend Play : 0.01128158844765343\n",
      "Adventure;Education : 0.01128158844765343\n"
     ]
    }
   ],
   "source": [
    "display_table(android_final, -4) #\"Genres\""
   ]
  },
  {
   "cell_type": "markdown",
   "metadata": {},
   "source": [
    "This display for Genres contains way more rows/categories. If we want to simplify our analysis, we may prefer the `Category` table because of the more narrow data-set. \n",
    "\n",
    "As of now, we've found that roughly *60%* of applications on the iOS App Store are dominated by games, whereas roughly *30%* of applications on the Google Play Store are dominated by games. There is more balance and variety in applications on the Google App Store, as seen by the smaller range in the `Category` column and the larger range in the `prime_genre` column.\n",
    "\n",
    "We've also realized a strong limitation in our current data-set, which indicates the *proportion of apps based on genre* instead of the *number of users* or *demand based on genre*\n"
   ]
  },
  {
   "cell_type": "markdown",
   "metadata": {},
   "source": [
    "## Step 4: App Profile Recommendations \n",
    "\n",
    "### App Profile Recommendation for iOS App Store"
   ]
  },
  {
   "cell_type": "code",
   "execution_count": 74,
   "metadata": {},
   "outputs": [
    {
     "name": "stdout",
     "output_type": "stream",
     "text": [
      "Social Networking : 71548.34905660378\n",
      "Photo & Video : 28441.54375\n",
      "Games : 22788.6696905016\n",
      "Music : 57326.530303030304\n",
      "Reference : 74942.11111111111\n",
      "Health & Fitness : 23298.015384615384\n",
      "Weather : 52279.892857142855\n",
      "Utilities : 18684.456790123455\n",
      "Travel : 28243.8\n",
      "Shopping : 26919.690476190477\n",
      "News : 21248.023255813954\n",
      "Navigation : 86090.33333333333\n",
      "Lifestyle : 16485.764705882353\n",
      "Entertainment : 14029.830708661417\n",
      "Food & Drink : 33333.92307692308\n",
      "Sports : 23008.898550724636\n",
      "Book : 39758.5\n",
      "Finance : 31467.944444444445\n",
      "Education : 7003.983050847458\n",
      "Productivity : 21028.410714285714\n",
      "Business : 7491.117647058823\n",
      "Catalogs : 4004.0\n",
      "Medical : 612.0\n"
     ]
    }
   ],
   "source": [
    "genres_ios = freq_table(ios_final, -5)\n",
    "\n",
    "for genre in genres_ios:\n",
    "    total = 0\n",
    "    len_genre = 0\n",
    "    for app in ios_final:\n",
    "        genre_app = app[-5]\n",
    "        if genre_app == genre:\n",
    "            n_ratings = float(app[5])\n",
    "            total += n_ratings\n",
    "            len_genre += 1\n",
    "    avg_n_ratings = total/len_genre\n",
    "    print(genre, ':', avg_n_ratings)\n"
   ]
  },
  {
   "cell_type": "markdown",
   "metadata": {},
   "source": [
    "According to our data, we can see that \"Navigation\" has the highest average number of users at 86,090. However, we can further break this down to see which apps are in this list."
   ]
  },
  {
   "cell_type": "code",
   "execution_count": 76,
   "metadata": {},
   "outputs": [
    {
     "name": "stdout",
     "output_type": "stream",
     "text": [
      "Waze - GPS Navigation, Maps & Real-time Traffic : 345046\n",
      "Google Maps - Navigation & Transit : 154911\n",
      "Geocaching® : 12811\n",
      "CoPilot GPS – Car Navigation & Offline Maps : 3582\n",
      "ImmobilienScout24: Real Estate Search in Germany : 187\n",
      "Railway Route Search : 5\n"
     ]
    }
   ],
   "source": [
    "for app in ios_final:\n",
    "    if app[-5] == 'Navigation':\n",
    "        print(app[1], \":\", app[5])"
   ]
  },
  {
   "cell_type": "markdown",
   "metadata": {},
   "source": [
    "This breakdown shows Google Maps and Waze make up the largest contribution to the popularity of 'Navigation' among users.\n",
    "\n",
    "Within this breakdown, we can come to a couple of guidelines that may shape the profile we choose:\n",
    "1. The market for 'Games' and 'Entertainment' is oversaturated. There are so many products and different games that serve as sources of entertainment–this makes it really hard to find competitive advantages and ways to attract audiences to our company's app if we decide to make a game.\n",
    "2. Categories such as 'Navigation' and 'Reference' are really popular because of key big players. There are many products in those areas too, but they're relatively uncompetitive given use of apps such as Google Maps and Waze instead of unpopular services such as Railway Route Search.\n",
    "3. We want to design an app that requires the least amount of domain knowledge. This means that we don't want to spend the capital required to hire financial liasons for building baking apps or legal professors for a LSAT-preparation app.\n",
    "4. Apps that are most profitable for add-revenue are apps that people spend large amounts of time on. This means apps that are weather-oriented may have large users, but users aren't checking the weather long enough to engage with advertisements.\n",
    "5. The best possible outcome is for our company to build an app that requires minimal consumer education. Building an app that requires massive advertisement and change in behavior may be beyond the scope of a small app development company, seeking to make a profit. \n",
    "\n",
    "Based on these initial thoughts, we recommend the following for the iOS App Store: \n",
    "\n",
    "**The company should build an application that creates an all-in-one calendar for its users.** Here, users can plan out their day, write down reminders, and categorize action items.\n",
    "- Fights oversaturation of games in the app store by introducing a new product that is not based on entertainment or fun.\n",
    "- Limited competition with Notion and Reminders - those are popular, but no one service dominates the entire market.\n",
    "- Keeps users engaged, as they'll regularly check the app to update progress and track check-lists"
   ]
  },
  {
   "cell_type": "markdown",
   "metadata": {},
   "source": [
    "### App Profile Recommendation for Google Play Store"
   ]
  },
  {
   "cell_type": "code",
   "execution_count": 78,
   "metadata": {},
   "outputs": [
    {
     "name": "stdout",
     "output_type": "stream",
     "text": [
      "1,000,000+ : 15.726534296028879\n",
      "100,000+ : 11.552346570397113\n",
      "10,000,000+ : 10.548285198555957\n",
      "10,000+ : 10.198555956678701\n",
      "1,000+ : 8.393501805054152\n",
      "100+ : 6.915613718411552\n",
      "5,000,000+ : 6.825361010830325\n",
      "500,000+ : 5.561823104693141\n",
      "50,000+ : 4.7721119133574\n",
      "5,000+ : 4.512635379061372\n",
      "10+ : 3.5424187725631766\n",
      "500+ : 3.2490974729241873\n",
      "50,000,000+ : 2.3014440433213\n",
      "100,000,000+ : 2.1322202166064983\n",
      "50+ : 1.917870036101083\n",
      "5+ : 0.78971119133574\n",
      "1+ : 0.5076714801444043\n",
      "500,000,000+ : 0.2707581227436823\n",
      "1,000,000,000+ : 0.22563176895306858\n",
      "0+ : 0.04512635379061372\n",
      "0 : 0.01128158844765343\n"
     ]
    }
   ],
   "source": [
    "display_table(android_final, 5)"
   ]
  },
  {
   "cell_type": "markdown",
   "metadata": {},
   "source": [
    "According to our data more than 15.7% of apps have 1,000,000+ downloads and 0.01% of apps have 0 downloads.\n",
    "\n",
    "NOTE: this frequency table's data is imprecise because the installs are divided in ranges. \n",
    "\n",
    "Now, we're going to use our data to find the average number of installs per app genre for the Google Play dataset."
   ]
  },
  {
   "cell_type": "code",
   "execution_count": 85,
   "metadata": {},
   "outputs": [
    {
     "name": "stdout",
     "output_type": "stream",
     "text": [
      "ART_AND_DESIGN : 1986335.0877192982\n",
      "AUTO_AND_VEHICLES : 647317.8170731707\n",
      "BEAUTY : 513151.88679245283\n",
      "BOOKS_AND_REFERENCE : 8767811.894736841\n",
      "BUSINESS : 1712290.1474201474\n",
      "COMICS : 817657.2727272727\n",
      "COMMUNICATION : 38456119.167247385\n",
      "DATING : 854028.8303030303\n",
      "EDUCATION : 1833495.145631068\n",
      "ENTERTAINMENT : 11640705.88235294\n",
      "EVENTS : 253542.22222222222\n",
      "FINANCE : 1387692.475609756\n",
      "FOOD_AND_DRINK : 1924897.7363636363\n",
      "HEALTH_AND_FITNESS : 4188821.9853479853\n",
      "HOUSE_AND_HOME : 1331540.5616438356\n",
      "LIBRARIES_AND_DEMO : 638503.734939759\n",
      "LIFESTYLE : 1437816.2687861272\n",
      "GAME : 15588015.603248259\n",
      "FAMILY : 3695641.8198090694\n",
      "MEDICAL : 120550.61980830671\n",
      "SOCIAL : 23253652.127118643\n",
      "SHOPPING : 7036877.311557789\n",
      "PHOTOGRAPHY : 17840110.40229885\n",
      "SPORTS : 3638640.1428571427\n",
      "TRAVEL_AND_LOCAL : 13984077.710144928\n",
      "TOOLS : 10801391.298666667\n",
      "PERSONALIZATION : 5201482.6122448975\n",
      "PRODUCTIVITY : 16787331.344927534\n",
      "PARENTING : 542603.6206896552\n",
      "WEATHER : 5074486.197183099\n",
      "VIDEO_PLAYERS : 24727872.452830188\n",
      "NEWS_AND_MAGAZINES : 9549178.467741935\n",
      "MAPS_AND_NAVIGATION : 4056941.7741935486\n"
     ]
    }
   ],
   "source": [
    "categories_android = freq_table(android_final, 1)\n",
    "\n",
    "for category in categories_android:\n",
    "    total = 0\n",
    "    len_category = 0\n",
    "    for app in android_final:\n",
    "        category_app = app[1]\n",
    "        if category_app == category:\n",
    "            n_installs = app[5]\n",
    "            n_installs = n_installs.replace(',', '')\n",
    "            n_installs = n_installs.replace('+', '')\n",
    "            total += float(n_installs)\n",
    "            len_category += 1\n",
    "    avg_n_installs = total / len_category\n",
    "    print(category, ':', avg_n_installs)"
   ]
  },
  {
   "cell_type": "markdown",
   "metadata": {},
   "source": [
    "According to our data, apps that are a part of the \"Communication\" category with more than 38,456,119 downloads on average. \n",
    "\n",
    "We can further break-down this category to see what apps dominate this category."
   ]
  },
  {
   "cell_type": "code",
   "execution_count": 86,
   "metadata": {},
   "outputs": [
    {
     "name": "stdout",
     "output_type": "stream",
     "text": [
      "WhatsApp Messenger : 1,000,000,000+\n",
      "imo beta free calls and text : 100,000,000+\n",
      "Android Messages : 100,000,000+\n",
      "Google Duo - High Quality Video Calls : 500,000,000+\n",
      "Messenger – Text and Video Chat for Free : 1,000,000,000+\n",
      "imo free video calls and chat : 500,000,000+\n",
      "Skype - free IM & video calls : 1,000,000,000+\n",
      "Who : 100,000,000+\n",
      "GO SMS Pro - Messenger, Free Themes, Emoji : 100,000,000+\n",
      "LINE: Free Calls & Messages : 500,000,000+\n",
      "Google Chrome: Fast & Secure : 1,000,000,000+\n",
      "Firefox Browser fast & private : 100,000,000+\n",
      "UC Browser - Fast Download Private & Secure : 500,000,000+\n",
      "Gmail : 1,000,000,000+\n",
      "Hangouts : 1,000,000,000+\n",
      "Messenger Lite: Free Calls & Messages : 100,000,000+\n",
      "Kik : 100,000,000+\n",
      "KakaoTalk: Free Calls & Text : 100,000,000+\n",
      "Opera Mini - fast web browser : 100,000,000+\n",
      "Opera Browser: Fast and Secure : 100,000,000+\n",
      "Telegram : 100,000,000+\n",
      "Truecaller: Caller ID, SMS spam blocking & Dialer : 100,000,000+\n",
      "UC Browser Mini -Tiny Fast Private & Secure : 100,000,000+\n",
      "Viber Messenger : 500,000,000+\n",
      "WeChat : 100,000,000+\n",
      "Yahoo Mail – Stay Organized : 100,000,000+\n",
      "BBM - Free Calls & Messages : 100,000,000+\n"
     ]
    }
   ],
   "source": [
    "for app in android_final:\n",
    "    if app[1] == 'COMMUNICATION' and (app[5] == '1,000,000,000+'\n",
    "                                      or app[5] == '500,000,000+'\n",
    "                                      or app[5] == '100,000,000+'):\n",
    "        print(app[0], ':', app[5])\n"
   ]
  },
  {
   "cell_type": "code",
   "execution_count": 94,
   "metadata": {},
   "outputs": [
    {
     "name": "stdout",
     "output_type": "stream",
     "text": [
      "Moto Display : 10,000,000+\n",
      "Motorola Alert : 50,000,000+\n",
      "Motorola Assist : 50,000,000+\n",
      "Moto Suggestions ™ : 1,000,000+\n",
      "Moto Voice : 10,000,000+\n",
      "myMetro : 10,000,000+\n",
      "File Manager : 50,000,000+\n",
      "My Telcel : 50,000,000+\n",
      "Calculator - free calculator, multi calculator app : 10,000,000+\n",
      "ASUS Sound Recorder : 10,000,000+\n",
      "iWnn IME for Nexus : 5,000,000+\n",
      "Samsung Max - Data Savings & Privacy Protection : 10,000,000+\n",
      "Android TV Remote Service : 1,000,000+\n",
      "ZenUI Help : 10,000,000+\n",
      "ZenUI Keyboard – Emoji, Theme : 10,000,000+\n",
      "Files Go by Google: Free up space on your phone : 10,000,000+\n",
      "SD card backup : 1,000,000+\n",
      "Nokia mobile support : 5,000,000+\n",
      "File Manager -- Take Command of Your Files Easily : 10,000,000+\n",
      "Clear : 10,000,000+\n",
      "Phone : 10,000,000+\n",
      "HTC Lock Screen : 10,000,000+\n",
      "AT&T Smart Wi-Fi : 10,000,000+\n",
      "Google app for Android TV : 10,000,000+\n",
      "Sound Recorder: Recorder & Voice Changer Free : 10,000,000+\n",
      "Remote Link (PC Remote) : 10,000,000+\n",
      "HTC Sense Input : 10,000,000+\n",
      "App vault : 10,000,000+\n",
      "TouchPal Keyboard for vivo : 1,000,000+\n",
      "My love : 10,000,000+\n",
      "DuraSpeed : 10,000,000+\n",
      "Digital Alarm Clock : 10,000,000+\n",
      "Alarm Clock Free : 10,000,000+\n",
      "Puzzle Alarm Clock ⏰ : 1,000,000+\n",
      "Alarm Clock : 5,000,000+\n",
      "I Can't Wake Up! Alarm Clock : 1,000,000+\n",
      "High-Powered Flashlight : 10,000,000+\n",
      "Brightest Flashlight - LED Light : 50,000,000+\n",
      "LED Flashlight : 10,000,000+\n",
      "Flashlight & LED Torch : 10,000,000+\n",
      "Color Flashlight : 50,000,000+\n",
      "CM Flashlight (Compass, SOS) : 5,000,000+\n",
      "Flashlight HD LED : 50,000,000+\n",
      "Flashlight - Torch LED Light : 10,000,000+\n",
      "Super Flashlight + LED : 5,000,000+\n",
      "Brightest LED Flashlight : 5,000,000+\n",
      "Brightest Flashlight Free ® : 50,000,000+\n",
      "Fraction Calculator Plus Free : 5,000,000+\n",
      "Calculator Plus Free : 10,000,000+\n",
      "CALCU™ Stylish Calculator Free : 5,000,000+\n",
      "Mobi Calculator free & AD free! : 5,000,000+\n",
      "Calculator with Percent (Free) : 1,000,000+\n",
      "Graphing Calculator : 1,000,000+\n",
      "Unit Converter : 1,000,000+\n",
      "Calculator ++ : 1,000,000+\n",
      "MyScript Calculator : 10,000,000+\n",
      "ConvertPad - Unit Converter : 10,000,000+\n",
      "Unit Converter Pro : 1,000,000+\n",
      "Classic Calculator : 5,000,000+\n",
      "Scientific Calculator Free : 1,000,000+\n",
      "Age Calculator : 1,000,000+\n",
      "SuperVPN Free VPN Client : 50,000,000+\n",
      "Hideman VPN : 5,000,000+\n",
      "Fast Secure VPN : 1,000,000+\n",
      "Free & Premium VPN - FinchVPN : 1,000,000+\n",
      "Hotspot Shield Free VPN Proxy & Wi-Fi Security : 50,000,000+\n",
      "OpenVPN Connect – Fast & Safe SSL VPN Client : 10,000,000+\n",
      "VPN - Fast, Secure & Unlimited WiFi with VyprVPN : 1,000,000+\n",
      "FREEDOME VPN Unlimited anonymous Wifi Security : 1,000,000+\n",
      "SurfEasy Secure Android VPN : 5,000,000+\n",
      "TunnelBear VPN : 5,000,000+\n",
      "VPN Free - Betternet Hotspot VPN & Private Browser : 10,000,000+\n",
      "Smart Keyboard Trial : 10,000,000+\n",
      "Emoji keyboard - Cute Emoticons, GIF, Stickers : 50,000,000+\n",
      "Google Handwriting Input : 10,000,000+\n",
      "Wifi Analyzer : 10,000,000+\n",
      "Network Signal Info : 1,000,000+\n",
      "osmino Wi-Fi: free WiFi : 10,000,000+\n",
      "WiFi Overview 360 : 1,000,000+\n",
      "Speedcheck : 1,000,000+\n",
      "Internet Speed Meter Lite : 10,000,000+\n",
      "Wifi Inspector : 5,000,000+\n",
      "WiFi Automatic : 1,000,000+\n",
      "NETGEAR WiFi Analytics : 1,000,000+\n",
      "Keypad Lock Screen : 10,000,000+\n",
      "photo keypad lockscreen : 10,000,000+\n",
      "Solo Locker (DIY Locker) : 10,000,000+\n",
      "Lock Screen : 1,000,000+\n",
      "ZERO Lock Screen : 1,000,000+\n",
      "AppLock - Fingerprint : 10,000,000+\n",
      "Smart AppLock (App Protect) : 10,000,000+\n",
      "Screen Off and Lock : 10,000,000+\n",
      "Screen Lock : 1,000,000+\n",
      "Flashlight : 10,000,000+\n",
      "Screen Lock - with Fingerprint Simulator : 10,000,000+\n",
      "Tuner - gStrings Free : 10,000,000+\n",
      "Video Downloader for Facebook : 50,000,000+\n",
      "HSPA+ Tweaker (3G booster) : 5,000,000+\n",
      "Force LTE Only : 1,000,000+\n",
      "Mobile Number Tracker : 5,000,000+\n",
      "I Screen Dialer : 1,000,000+\n",
      "Smart TV Remote : 10,000,000+\n",
      "O Launcher 8.0 for Android™ O Oreo Launcher : 1,000,000+\n",
      "QR Code Reader : 50,000,000+\n",
      "S Player - Lightest and Most Powerful Video Player : 1,000,000+\n",
      "S S9 Launcher - Galaxy S8/S9 Launcher, theme, cool : 1,000,000+\n",
      "T-Mobile : 10,000,000+\n",
      "T-Mobile Visual Voicemail : 50,000,000+\n",
      "AT&T FamilyMap® : 10,000,000+\n",
      "Don't touch my phone : 5,000,000+\n",
      "WIFI WPS WPA TESTER : 10,000,000+\n",
      "App Lock: Locker w/ fingerprint, Parental Control : 1,000,000+\n",
      "Open in WhatsApp (click to chat) : 1,000,000+\n",
      "WPSApp : 10,000,000+\n",
      "X-VPN - Free Unlimited VPN Proxy : 5,000,000+\n",
      "Phone X Launcher, OS 11 iLauncher & Control Center : 5,000,000+\n",
      "X-plore File Manager : 10,000,000+\n",
      "Flashlight X : 1,000,000+\n",
      "iSwipe Phone X : 1,000,000+\n",
      "[ROOT] X Privacy Installer : 1,000,000+\n",
      "Antivirus & Mobile Security : 10,000,000+\n",
      "Flashlight Ultimate : 1,000,000+\n",
      "ZArchiver : 10,000,000+\n",
      "Zapya - File Transfer, Sharing : 10,000,000+\n",
      "CPU-Z : 10,000,000+\n",
      "Moto Z Market : 1,000,000+\n",
      "Universal AC Remote Control : 1,000,000+\n",
      "Air conditioner remote control : 1,000,000+\n",
      "A/C Air Conditioner Remote : 1,000,000+\n",
      "A/C Universal Remote Control : 1,000,000+\n",
      "Mi Remote controller - for TV, STB, AC and more : 10,000,000+\n",
      "AC & TV, DVD, Set Top Box - Remote control IR : 1,000,000+\n",
      "AppBrain Ad Detector : 1,000,000+\n",
      "Adguard Content Blocker : 1,000,000+\n",
      "Anti Adware : 1,000,000+\n",
      "Photo Compress 2.0 - Ad Free : 1,000,000+\n",
      "AppFinder by AppTap : 5,000,000+\n",
      "APN Settings : 1,000,000+\n",
      "QR BARCODE SCANNER : 10,000,000+\n",
      "Image 2 Wallpaper : 5,000,000+\n",
      "LG AV REMOTE : 1,000,000+\n",
      "Norton Security and Antivirus : 10,000,000+\n",
      "Kaspersky Mobile Antivirus: AppLock & Web Security : 50,000,000+\n",
      "Bitdefender Antivirus Free : 1,000,000+\n",
      "Avast Cleanup & Boost, Phone Cleaner, Optimizer : 10,000,000+\n",
      "Display Phone Screen On TV : 1,000,000+\n",
      "Remote for Sony TV & Sony Blu-Ray Players MyAV : 1,000,000+\n",
      "Unseen - No Last Seen : 5,000,000+\n",
      "All Language Translator : 5,000,000+\n",
      "BQ Services : 1,000,000+\n",
      "Software Update : 1,000,000+\n",
      "Free antivirus and VPN : 1,000,000+\n",
      "Simple Gallery : 1,000,000+\n",
      "BTNotification : 5,000,000+\n",
      "BT Notifier : 1,000,000+\n",
      "BT Controller : 1,000,000+\n",
      "Mediatek SmartDevice : 1,000,000+\n",
      "Battery Notifier BT Free : 1,000,000+\n",
      "Bixby Button Remapper - bxActions : 1,000,000+\n",
      "Limbo PC Emulator QEMU ARM x86 : 1,000,000+\n",
      "Project Fi by Google : 1,000,000+\n",
      "Bubble : 5,000,000+\n",
      "CA DMV : 1,000,000+\n",
      "CCleaner : 50,000,000+\n",
      "Terminal Emulator for Android : 10,000,000+\n",
      "Clean Master Lite - For Low-End Phone : 50,000,000+\n",
      "CM Security Open VPN - Free, fast unlimited proxy : 1,000,000+\n",
      "CM Security Lite - Antivirus : 10,000,000+\n",
      "AppLock - Fingerprint Unlock : 5,000,000+\n",
      "Speed Booster - Ram, Battery & Game Speed Booster : 1,000,000+\n",
      "CM FILE MANAGER : 50,000,000+\n",
      "Ruler : 1,000,000+\n",
      "Speed Test - WiFi / Cellular speed test : 1,000,000+\n",
      "Remote | Fire TV | Android TV | KODI | CetusPlay : 1,000,000+\n",
      "Poke Genie - Safe IV Calculator : 1,000,000+\n",
      "gCMOB : 1,000,000+\n",
      "Calcy IV : 1,000,000+\n",
      "Battle Result Predictor for CR : 1,000,000+\n",
      "Deck Advisor for CR : 5,000,000+\n",
      "Card Creator for CR : 10,000,000+\n",
      "Chest Tracker for Clash Royale : 5,000,000+\n",
      "Remote CT - Smart Remote : 1,000,000+\n",
      "HTC Transfer Tool : 5,000,000+\n",
      "CZ File Manager : 1,000,000+\n",
      "Master for Minecraft(Pocket Edition)-Mod Launcher : 50,000,000+\n",
      "Translate: text & voice translator : 5,000,000+\n",
      "The Zueira's Voice : 1,000,000+\n",
      "Battery Calibration : 5,000,000+\n",
      "FVD - Free Video Downloader : 10,000,000+\n",
      "Download Manager for Android : 10,000,000+\n",
      "Sound Meter : 10,000,000+\n",
      "APUS File Manager (Explorer) : 50,000,000+\n",
      "Easy Language Translator : 10,000,000+\n",
      "Satellite Director : 10,000,000+\n",
      "DiskDigger photo recovery : 50,000,000+\n",
      "Advanced Download Manager : 10,000,000+\n",
      "GetThemAll Any File Downloader : 5,000,000+\n",
      "Downloader & Private Browser : 50,000,000+\n",
      "Download All Files : 10,000,000+\n",
      "Download Accelerator Plus : 1,000,000+\n",
      "Download Manager : 10,000,000+\n",
      "Fast Download Manager : 1,000,000+\n",
      "Turbo Download Manager (and Browser) : 5,000,000+\n",
      "Download Blazer : 5,000,000+\n",
      "Turbo Downloader : 5,000,000+\n",
      "Advanced Download Manager Holo : 1,000,000+\n",
      "TorrDroid - Torrent Downloader : 1,000,000+\n",
      "Download Manager - File & Video : 1,000,000+\n",
      "File Viewer for Android : 1,000,000+\n",
      "EasyNote Notepad | To Do List : 1,000,000+\n",
      "dr.fone - Recovery & Transfer wirelessly & Backup : 5,000,000+\n",
      "Dr. Battery - Fast Charger - Super Cleaner 2018 : 1,000,000+\n",
      "Dr. Safety - Antivirus, Booster, Cleaner, AppLock : 10,000,000+\n",
      "Dr.Web Security Space : 10,000,000+\n",
      "Dr. Booster - Boost Game Speed : 10,000,000+\n",
      "DS get : 5,000,000+\n",
      "Deep Sleep Battery Saver : 1,000,000+\n",
      "DU Antivirus Security - Applock & Privacy Guard : 10,000,000+\n",
      "DU Cleaner – Memory cleaner & clean phone cache : 10,000,000+\n",
      "DU Browser Mini(Small&Fast) : 1,000,000+\n",
      "DU Flashlight - Brightest LED & Flashlight Free : 5,000,000+\n",
      "Upgrade for Android DU Master : 1,000,000+\n",
      "GO Security－AntiVirus, AppLock, Booster : 10,000,000+\n",
      "SIM Card Info : 1,000,000+\n",
      "The translator : 1,000,000+\n",
      "Instabridge - Free WiFi Passwords and Hotspots : 10,000,000+\n",
      "Keyboard ManMan : 10,000,000+\n",
      "HTC Sense Input - EN : 5,000,000+\n",
      "Bluetooth Pair : 1,000,000+\n",
      "ES App Locker : 1,000,000+\n",
      "ES Dark Theme for free : 1,000,000+\n",
      "ES Classic Theme : 1,000,000+\n",
      "HTC Sense Input - ES : 1,000,000+\n",
      "RAR : 50,000,000+\n",
      "File Manager by Xiaomi: release file storage space : 10,000,000+\n",
      "Moto File Manager : 10,000,000+\n",
      "Epson iPrint : 10,000,000+\n",
      "Third Eye : 1,000,000+\n",
      "Farsi Keyboard : 1,000,000+\n",
      "Authy 2-Factor Authentication : 1,000,000+\n",
      "Flash Light on Call & SMS : 1,000,000+\n",
      "MOD-MASTER for Minecraft PE (Pocket Edition) Free : 10,000,000+\n",
      "Fingerprint Quick Action : 1,000,000+\n",
      "Fingerprint Lock Screen Prank : 1,000,000+\n",
      "Inf VPN - Global Proxy & Unlimited Free WIFI VPN : 1,000,000+\n",
      "\n",
      "\n",
      "Number of Tool-Based Apps:  750\n"
     ]
    }
   ],
   "source": [
    "for app in android_final:\n",
    "    if app[1] == 'TOOLS' and (app[5] == '1,000,000+'\n",
    "                                            or app[5] == '5,000,000+'\n",
    "                                            or app[5] == '10,000,000+'\n",
    "                                            or app[5] == '50,000,000+'):\n",
    "        print(app[0], ':', app[5])\n",
    "\n",
    "n_of_tool_based_apps = 0\n",
    "\n",
    "for app in android_final:\n",
    "    if app[1] == 'TOOLS':\n",
    "        n_of_tool_based_apps += 1\n",
    "\n",
    "print('\\n')\n",
    "print('Number of Tool-Based Apps: ', n_of_tool_based_apps)"
   ]
  },
  {
   "cell_type": "markdown",
   "metadata": {},
   "source": [
    "Through our analysis, we can make two claims:\n",
    "1. The communication genre is comprised of really big players like WhatsApp and Messenger, which would make it very hard for  substitutes and new entrants to compete.\n",
    "2. Tools are extremely popular. Even though there are *750 different tool-based apps*, there are still more than 1,000,000+ downloads for each of these tools.\n",
    "\n",
    "This confirms that if we introduce the product we designed for the iOS App Store, there is a chance that it can succeed in the Google Play Store. In fact, it may succeed even more—because there is more balance in the Google Play Store and less saturation of games/entertainment apps. This provides a track-record of successful tools and lifestyle-based apps that enhance users' daily lives.\n",
    "\n",
    "As such, we'd recommend that the company  build an application that creates an all-in-one calendar for its users"
   ]
  }
 ],
 "metadata": {
  "kernelspec": {
   "display_name": "Python 3",
   "language": "python",
   "name": "python3"
  },
  "language_info": {
   "codemirror_mode": {
    "name": "ipython",
    "version": 3
   },
   "file_extension": ".py",
   "mimetype": "text/x-python",
   "name": "python",
   "nbconvert_exporter": "python",
   "pygments_lexer": "ipython3",
   "version": "3.8.2"
  }
 },
 "nbformat": 4,
 "nbformat_minor": 2
}
